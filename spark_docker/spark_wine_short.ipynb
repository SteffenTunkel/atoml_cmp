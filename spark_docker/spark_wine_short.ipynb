{
 "cells": [
  {
   "cell_type": "markdown",
   "metadata": {
    "slideshow": {
     "slide_type": "slide"
    }
   },
   "source": [
    "   # Load the data\n",
    "\n"
   ]
  },
  {
   "cell_type": "code",
   "execution_count": 1,
   "metadata": {
    "slideshow": {
     "slide_type": "fragment"
    }
   },
   "outputs": [],
   "source": [
    "from pyspark.sql import SQLContext\n",
    "from pyspark.sql.types import *\n",
    "\n",
    "import sys\n",
    "import os\n",
    "import pyspark\n",
    "\n",
    "if ('sc' not in locals() or 'sc' not in globals()):\n",
    "    os.environ['PYSPARK_PYTHON'] = '/usr/bin/python2'\n",
    "    sc = pyspark.SparkContext('local[*]')\n",
    "\n",
    "\n",
    "sqlContext = SQLContext(sc)\n",
    "schema = StructType([ \\\n",
    "    StructField(\"fixed acidity\", DoubleType(), True), \\\n",
    "    StructField(\"volatile acidity\", DoubleType(), True), \\\n",
    "    StructField(\"citric acid\", DoubleType(), True), \\\n",
    "    StructField(\"residual sugar\", DoubleType(), True), \\\n",
    "    StructField(\"chlorides\", DoubleType(), True), \\\n",
    "    StructField(\"free sulfur dioxide\", DoubleType(), True), \\\n",
    "    StructField(\"total sulfur dioxide\", DoubleType(), True), \\\n",
    "    StructField(\"density\", DoubleType(), True), \\\n",
    "    StructField(\"pH\", DoubleType(), True), \\\n",
    "    StructField(\"sulphates\", DoubleType(), True), \\\n",
    "    StructField(\"alcohol\", DoubleType(), True), \\\n",
    "    StructField(\"quality\", StringType(), True)])\n",
    "\n",
    "\n",
    "train_data = sqlContext.read \\\n",
    "    .format('com.databricks.spark.csv') \\\n",
    "    .load('/data/wine_train_spark.csv', schema = schema)\n",
    "\n",
    "test_data = sqlContext.read \\\n",
    "    .format('com.databricks.spark.csv') \\\n",
    "    .load('/data/wine_test_spark.csv', schema = schema)"
   ]
  },
  {
   "cell_type": "code",
   "execution_count": 2,
   "metadata": {},
   "outputs": [],
   "source": [
    "reduced_numeric_cols = ['fixed acidity', 'volatile acidity', 'citric acid', 'residual sugar',\n",
    "       'chlorides', 'free sulfur dioxide', 'total sulfur dioxide', 'density',\n",
    "       'pH', 'sulphates', 'alcohol']\n"
   ]
  },
  {
   "cell_type": "code",
   "execution_count": 3,
   "metadata": {
    "slideshow": {
     "slide_type": "fragment"
    }
   },
   "outputs": [],
   "source": [
    "from pyspark.ml.feature import StringIndexer\n",
    "from pyspark.ml.feature import VectorAssembler\n",
    "\n",
    "label_indexer = StringIndexer(inputCol = 'quality', outputCol = 'label')\n",
    "\n",
    "assembler = VectorAssembler(\n",
    "    inputCols = reduced_numeric_cols,\n",
    "    outputCol = 'features')"
   ]
  },
  {
   "cell_type": "markdown",
   "metadata": {},
   "source": [
    "## Naive Bayes"
   ]
  },
  {
   "cell_type": "code",
   "execution_count": 4,
   "metadata": {
    "scrolled": true,
    "slideshow": {
     "slide_type": "fragment"
    }
   },
   "outputs": [],
   "source": [
    "from pyspark.ml import Pipeline\n",
    "from pyspark.ml.classification import NaiveBayes\n",
    "\n",
    "classifier = NaiveBayes(labelCol = 'label', featuresCol = 'features', modelType='gaussian')\n",
    "\n",
    "pipeline = Pipeline(stages=[label_indexer, assembler, classifier])\n",
    "\n",
    "train = train_data\n",
    "test = test_data\n",
    "model = pipeline.fit(train)"
   ]
  },
  {
   "cell_type": "code",
   "execution_count": 5,
   "metadata": {},
   "outputs": [
    {
     "name": "stdout",
     "output_type": "stream",
     "text": [
      "The AUROC is 0.7029711046310062 and the AUPR is 0.32589070689298616.\n",
      "The accuracy is 0.8328125 and the f1 is 0.8452321757495944.\n"
     ]
    }
   ],
   "source": [
    "from pyspark.ml.evaluation import BinaryClassificationEvaluator\n",
    "\n",
    "predictions = model.transform(test)\n",
    "evaluator = BinaryClassificationEvaluator()\n",
    "auroc = evaluator.evaluate(predictions, {evaluator.metricName: \"areaUnderROC\"})\n",
    "aupr = evaluator.evaluate(predictions, {evaluator.metricName: \"areaUnderPR\"})\n",
    "print(\"The AUROC is %s and the AUPR is %s.\" % (auroc, aupr))\n",
    "\n",
    "\n",
    "\n",
    "from pyspark.ml.evaluation import MulticlassClassificationEvaluator\n",
    "\n",
    "predictions = model.transform(test)\n",
    "evaluator = MulticlassClassificationEvaluator()\n",
    "acc = evaluator.evaluate(predictions, {evaluator.metricName: \"accuracy\"})\n",
    "f1 = evaluator.evaluate(predictions, {evaluator.metricName: \"f1\"})\n",
    "print(\"The accuracy is %s and the f1 is %s.\" % (acc, f1))\n",
    "\n",
    "\n",
    "\n",
    "pred_df = predictions.toPandas()\n",
    "pred_df.to_csv('log/spark_pred_gnb.csv', header=True, index=False)"
   ]
  },
  {
   "cell_type": "markdown",
   "metadata": {},
   "source": [
    "## Logistic Regression"
   ]
  },
  {
   "cell_type": "code",
   "execution_count": 6,
   "metadata": {},
   "outputs": [],
   "source": [
    "from pyspark.ml import Pipeline\n",
    "from pyspark.ml.classification import LogisticRegression\n",
    "\n",
    "# default parameter:\n",
    "# self, featuresCol=\"features\", labelCol=\"label\", predictionCol=\"prediction\",\n",
    "# maxIter=100, regParam=0.1, elasticNetParam=0.0, tol=1e-6, fitIntercept=True,\n",
    "# threshold=0.5, thresholds=None, probabilityCol=\"probability\",\n",
    "# rawPredictionCol=\"rawPrediction\", standardization=True, weightCol=None\n",
    "\n",
    "#accuracy: 0.870313\t f1: 0.848442\n",
    "classifier = LogisticRegression(featuresCol=\"features\", labelCol=\"label\")\n",
    "                      \n",
    "pipeline = Pipeline(stages=[label_indexer, assembler, classifier])\n",
    "\n",
    "train = train_data\n",
    "test = test_data\n",
    "model = pipeline.fit(train)"
   ]
  },
  {
   "cell_type": "code",
   "execution_count": 7,
   "metadata": {},
   "outputs": [
    {
     "name": "stdout",
     "output_type": "stream",
     "text": [
      "accuracy: 0.870313\t f1: 0.848442\n"
     ]
    }
   ],
   "source": [
    "from pyspark.ml.evaluation import MulticlassClassificationEvaluator\n",
    "\n",
    "predictions = model.transform(test)\n",
    "evaluator = MulticlassClassificationEvaluator()\n",
    "acc = evaluator.evaluate(predictions, {evaluator.metricName: \"accuracy\"})\n",
    "f1 = evaluator.evaluate(predictions, {evaluator.metricName: \"f1\"})\n",
    "print(\"accuracy: %f\\t f1: %f\" % (acc, f1))\n",
    "\n",
    "pred_df = predictions.toPandas()\n",
    "pred_df.to_csv('log/spark_pred_logreg.csv', header=True, index=False)"
   ]
  },
  {
   "cell_type": "markdown",
   "metadata": {},
   "source": [
    "## Linear Support Vector Machine"
   ]
  },
  {
   "cell_type": "code",
   "execution_count": null,
   "metadata": {},
   "outputs": [],
   "source": [
    "from pyspark.ml import Pipeline\n",
    "from pyspark.ml.classification import LinearSVC\n",
    "\n",
    "# default parameter:\n",
    "# featuresCol=”features”, labelCol=”label”, predictionCol=”prediction”, maxIter=100, regParam=0.0, tol=1e-6, \n",
    "# rawPredictionCol=”rawPrediction”, fitIntercept=True, standardization=True, threshold=0.0, weightCol=None, \n",
    "# aggregationDepth=2\n",
    "\n",
    "# accuracy: 0.860938\t f1: 0.796602\n",
    "classifier = LinearSVC( featuresCol=\"features\", labelCol=\"label\", regParam=1.0)\n",
    "\n",
    "pipeline = Pipeline(stages=[label_indexer, assembler, classifier])\n",
    "\n",
    "train = train_data\n",
    "test = test_data\n",
    "model = pipeline.fit(train)"
   ]
  },
  {
   "cell_type": "code",
   "execution_count": null,
   "metadata": {},
   "outputs": [],
   "source": [
    "from pyspark.ml.evaluation import MulticlassClassificationEvaluator\n",
    "\n",
    "predictions = model.transform(test)\n",
    "evaluator = MulticlassClassificationEvaluator()\n",
    "acc = evaluator.evaluate(predictions, {evaluator.metricName: \"accuracy\"})\n",
    "f1 = evaluator.evaluate(predictions, {evaluator.metricName: \"f1\"})\n",
    "print(\"accuracy: %f\\t f1: %f\" % (acc, f1))\n",
    "\n",
    "pred_df = predictions.toPandas()\n",
    "pred_df.to_csv('log/spark_pred_linsvm.csv', header=True, index=False)"
   ]
  },
  {
   "cell_type": "code",
   "execution_count": null,
   "metadata": {},
   "outputs": [],
   "source": []
  }
 ],
 "metadata": {
  "celltoolbar": "Slideshow",
  "kernelspec": {
   "display_name": "Python 3",
   "language": "python",
   "name": "python3"
  },
  "language_info": {
   "codemirror_mode": {
    "name": "ipython",
    "version": 3
   },
   "file_extension": ".py",
   "mimetype": "text/x-python",
   "name": "python",
   "nbconvert_exporter": "python",
   "pygments_lexer": "ipython3",
   "version": "3.8.6"
  }
 },
 "nbformat": 4,
 "nbformat_minor": 1
}